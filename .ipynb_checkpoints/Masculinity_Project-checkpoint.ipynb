{
 "cells": [
  {
   "cell_type": "markdown",
   "metadata": {},
   "source": [
    "# Investigate the Data\n",
    "\n",
    "Welcome to the cumulative project on clustering algorithms! In this project, we will be investigating the way people think about masculinity by applying the KMeans algorithm to data from  <a href=\"https://fivethirtyeight.com/\" target = \"_blank\">FiveThirtyEight</a>. FiveThirtyEight is a popular website known for their use of statistical analysis in many of their stories.\n",
    "\n",
    "To begin, take a look at `masculinity-survey.pdf`. FiveThirtyEight and WNYC studios used this survey to get their male readers' thoughts on masculinity. After looking through some of the questions asked, take a look at FiveThirtyEight's article <a href=\"https://fivethirtyeight.com/features/what-do-men-think-it-means-to-be-a-man/\" target = \"_blank\">What Do Men Think It Means To Be A Man?</a> to see their major takeaways. We're going to try to find more insights using machine learning.\n",
    "\n",
    "In the code block below, we've loaded `masculinity.csv` into a DataFrame named `survey`. This file contains the raw responses to the masculinity survey. Let's start getting a sense of how this data is structured. Try to answer these questions using your Pandas knowledge:\n",
    "* What are the names of the columns? How do those columns relate to the questions in the PDF?\n",
    "* How many rows are there?\n",
    "* How is a question with multiple parts, like question 7, represented in the DataFrame?\n",
    "* How many people said they often ask a friend for professional advice? This is the first sub-question in question 7.\n",
    "\n",
    "To answer that last question, use the `value_counts()` function. For example, `df[\"col_a\"].value_counts()` gives you a nice summary of the values found in `\"col_a\"` of the DataFrame `df`.\n",
    "\n",
    "You may also want to print `survey.head()` to get a sense of all of the columns.\n"
   ]
  },
  {
   "cell_type": "code",
   "execution_count": 162,
   "metadata": {},
   "outputs": [
    {
     "name": "stdout",
     "output_type": "stream",
     "text": [
      "Index(['Unnamed: 0', 'StartDate', 'EndDate', 'q0001', 'q0002', 'q0004_0001',\n",
      "       'q0004_0002', 'q0004_0003', 'q0004_0004', 'q0004_0005', 'q0004_0006',\n",
      "       'q0005', 'q0007_0001', 'q0007_0002', 'q0007_0003', 'q0007_0004',\n",
      "       'q0007_0005', 'q0007_0006', 'q0007_0007', 'q0007_0008', 'q0007_0009',\n",
      "       'q0007_0010', 'q0007_0011', 'q0008_0001', 'q0008_0002', 'q0008_0003',\n",
      "       'q0008_0004', 'q0008_0005', 'q0008_0006', 'q0008_0007', 'q0008_0008',\n",
      "       'q0008_0009', 'q0008_0010', 'q0008_0011', 'q0008_0012', 'q0009',\n",
      "       'q0010_0001', 'q0010_0002', 'q0010_0003', 'q0010_0004', 'q0010_0005',\n",
      "       'q0010_0006', 'q0010_0007', 'q0010_0008', 'q0011_0001', 'q0011_0002',\n",
      "       'q0011_0003', 'q0011_0004', 'q0011_0005', 'q0012_0001', 'q0012_0002',\n",
      "       'q0012_0003', 'q0012_0004', 'q0012_0005', 'q0012_0006', 'q0012_0007',\n",
      "       'q0013', 'q0014', 'q0015', 'q0017', 'q0018', 'q0019_0001', 'q0019_0002',\n",
      "       'q0019_0003', 'q0019_0004', 'q0019_0005', 'q0019_0006', 'q0019_0007',\n",
      "       'q0020_0001', 'q0020_0002', 'q0020_0003', 'q0020_0004', 'q0020_0005',\n",
      "       'q0020_0006', 'q0021_0001', 'q0021_0002', 'q0021_0003', 'q0021_0004',\n",
      "       'q0022', 'q0024', 'q0025_0001', 'q0025_0002', 'q0025_0003', 'q0026',\n",
      "       'q0028', 'q0029', 'q0030', 'q0034', 'q0035', 'q0036', 'race2',\n",
      "       'racethn4', 'educ3', 'educ4', 'age3', 'kids', 'orientation', 'weight'],\n",
      "      dtype='object')\n",
      "Sometimes                    537\n",
      "Rarely                       324\n",
      "Often                        142\n",
      "Never, but open to it        123\n",
      "Never, and not open to it     53\n",
      "No answer                     10\n",
      "Name: q0007_0001, dtype: int64\n"
     ]
    }
   ],
   "source": [
    "import pandas as pd\n",
    "\n",
    "survey = pd.read_csv(\"masculinity.csv\")\n",
    "\n",
    "print(survey.columns)\n",
    "# print(len(survey))\n",
    "#print(survey.iloc[2])\n",
    "print(survey['q0007_0001'].value_counts())"
   ]
  },
  {
   "cell_type": "markdown",
   "metadata": {},
   "source": [
    "# Mapping the Data\n",
    "\n",
    "In order for us to start thinking about using the KMeans algorithm with this data, we need to first figure out how to turn these responses into numerical data. Let's once again consider question 7. We can't cluster the data using the phrases `\"Often\"` or `\"Rarely\"`, but we can turn those phrases into numbers. For example, we could map the data in the following way: \n",
    "* `\"Often\"` -> `4`\n",
    "* `\"Sometimes\"` ->  `3`\n",
    "* `\"Rarely\"` -> `2` \n",
    "* `\"Never, but open to it\"` -> `1`\n",
    "* `\"Never, and not open to it\"` -> `0`.\n",
    "\n",
    "Note that it's important that these responses are somewhat linear. `\"Often\"` is at one end of the spectrum with `\"Never, and not open to it\"` at the other. The other values fall in sequence between the two. You could perform a similar mapping for the `\"educ4\"` responses (question 29), but there isn't an obvious linear progression in the `\"racethn4\"` responses (question 28).\n",
    "\n",
    "In order to do this transformation, use the `map()` function. `map()` takes a dictionary as a parameter. For example, the following line of code would turn all the `\"A\"`s into `1`s and all the `\"B\"`s into `2`s in the column `\"col_one\"`.\n",
    "\n",
    "```py\n",
    "df[\"col_one\"] = df[\"col_one\"].map({\"A\": 1, \"B\": 2})\n",
    "```\n",
    "\n",
    "We've given you a list of the columns that should be mapped. Loop through the values of the list and map each column using the mapping described above.\n",
    "\n",
    "Be careful of your spelling! Punctuation and whitespace is important. Take a look at the `value_counts()` of one of these columns to see if the mapping worked.\n"
   ]
  },
  {
   "cell_type": "code",
   "execution_count": 89,
   "metadata": {},
   "outputs": [
    {
     "name": "stdout",
     "output_type": "stream",
     "text": [
      "3.0    537\n",
      "2.0    324\n",
      "4.0    142\n",
      "1.0    123\n",
      "0.0     53\n",
      "Name: q0007_0001, dtype: int64\n"
     ]
    }
   ],
   "source": [
    "cols_to_map = [\"q0007_0001\", \"q0007_0002\", \"q0007_0003\", \"q0007_0004\",\n",
    "       \"q0007_0005\", \"q0007_0006\", \"q0007_0007\", \"q0007_0008\", \"q0007_0009\",\n",
    "       \"q0007_0010\", \"q0007_0011\"]\n",
    "\n",
    "#print(cols_to_map[0])\n",
    "for i in cols_to_map:\n",
    "    survey[i] = survey[i].map({\"Never, and not open to it\": 0, \"Never, but open to it\": 1, \"Rarely\": 2, \"Sometimes\": 3,\"Often\": 4})\n",
    "    #print(survey[i])\n",
    "    \n",
    "print(survey['q0007_0001'].value_counts())"
   ]
  },
  {
   "cell_type": "markdown",
   "metadata": {},
   "source": [
    "# Plotting the Data\n",
    "\n",
    "We now have 11 different features that we could use in our KMeans algorithm. Before we jump into clustering, let's graph some of these features on a 2D graph. Call `plt.scatter` using `survey[\"q0007_0001\"]` and `survey[\"q0007_0002\"]` as parameters. Include `alpha = 0.1`. We want to include `alpha` because many of the data points will be on top of each other. Adding `alpha` will make the points appear more solid if there are many stacked on top of each other.\n",
    "\n",
    "Include axis labels on your graph. The x-axis corresponds with the first column you gave the `scatter()` function. So in this case, it corresponds to the question about asking a friend for professional advice.\n",
    "\n",
    "Does it make sense that there are few points in the top left and bottom right corners of the graph? Why? Try graphing other dimensions against each other. Are there any combinations that give you surprising results?\n"
   ]
  },
  {
   "cell_type": "code",
   "execution_count": 109,
   "metadata": {},
   "outputs": [
    {
     "data": {
      "text/plain": [
       "Text(0, 0.5, 'Get in a physical fight with another person')"
      ]
     },
     "execution_count": 109,
     "metadata": {},
     "output_type": "execute_result"
    },
    {
     "data": {
      "image/png": "[encoded data removed]",
      "text/plain": [
       "<Figure size 640x480 with 1 Axes>"
      ]
     },
     "metadata": {},
     "output_type": "display_data"
    }
   ],
   "source": [
    "import matplotlib\n",
    "from matplotlib import pyplot as plt\n",
    "import seaborn as sns \n",
    "\n",
    "#Cannot see plot below, probably because there are so many varibles. Should try PCA?\n",
    "#sns.pairplot(survey)\n",
    "# adding this below to get ride of seaborn formatting\n",
    "matplotlib.rc_file_defaults()\n",
    "\n",
    "#I think alpha of 0.05 or 0.01 gave better resolution because of the number of datapoints. \n",
    "plt.scatter(survey['q0007_0002'], survey['q0007_0005'], alpha=0.05)\n",
    "plt.xlabel('Asking a Friend for Professional Advice (Often=4)') ##1\n",
    "#plt.ylabel('Asking a Friend for Personal Advice') ##2\n",
    "plt.ylabel('Get in a physical fight with another person')  #005\n",
    "\n",
    "#Men who ask a friend for professional/ personal advice are less likely to get into more than 2 physical fights."
   ]
  },
  {
   "cell_type": "markdown",
   "metadata": {},
   "source": [
    "# Perform PCA \n",
    "\n",
    "\n",
    "Performing PCA on the sub questions in question 7 to see if we can come up with a composition that will be better than the original components.\n"
   ]
  },
  {
   "cell_type": "code",
   "execution_count": 131,
   "metadata": {},
   "outputs": [
    {
     "name": "stdout",
     "output_type": "stream",
     "text": [
      "               Comp1     Comp2     Comp3     Comp4     Comp5\n",
      "q0007_0001 -0.371142 -0.142135 -0.068253  0.114760 -0.051934\n",
      "q0007_0002 -0.376018 -0.113462 -0.036761  0.127091 -0.049520\n",
      "q0007_0003 -0.545571  0.055894 -0.496475  0.168512 -0.221554\n",
      "q0007_0004 -0.299495  0.047626  0.032039  0.067419 -0.132422\n",
      "q0007_0005 -0.067288 -0.073610  0.081580  0.007141  0.160809\n",
      "q0007_0006  0.089743 -0.635545  0.167329  0.569442 -0.147061\n",
      "q0007_0007 -0.214627  0.328871 -0.166651 -0.132975  0.140545\n",
      "q0007_0008 -0.047327 -0.485204 -0.088319 -0.682304 -0.478818\n",
      "q0007_0009 -0.228244 -0.441810 -0.095555 -0.249227  0.786875\n",
      "q0007_0010 -0.351377  0.059017  0.458509  0.111808  0.051907\n",
      "q0007_0011 -0.311563  0.099683  0.675935 -0.235764 -0.099280\n",
      "                           Comp1     Comp2    Comp3     Comp4     Comp5\n",
      "Proportion of Variance  0.230901  0.183914  0.11002  0.094539  0.075962\n"
     ]
    }
   ],
   "source": [
    "##Performing PCA on the set of sub questions that comprise question 7.\n",
    "from sklearn.decomposition import PCA\n",
    "\n",
    "masc = survey[[\"q0007_0001\", \"q0007_0002\", \"q0007_0003\", \"q0007_0004\",\n",
    "       \"q0007_0005\", \"q0007_0006\", \"q0007_0007\", \"q0007_0008\", \"q0007_0009\",\n",
    "       \"q0007_0010\", \"q0007_0011\"]]\n",
    "\n",
    "masc = masc.dropna()\n",
    "\n",
    "#print(masc.head())\n",
    "\n",
    "masc_pca = PCA(n_components = 5)\n",
    "components = masc_pca.fit(masc).components_\n",
    "components = pd.DataFrame(components).transpose()\n",
    "components.columns = ['Comp1', 'Comp2', 'Comp3', 'Comp4', 'Comp5']\n",
    "components.index =  masc.columns\n",
    "print(components)\n",
    "\n",
    "#Proportion of Variance Explained\n",
    "var_ratio = masc_pca.explained_variance_ratio_\n",
    "var_ratio= pd.DataFrame(var_ratio).transpose()\n",
    "var_ratio.columns = ['Comp1', 'Comp2', 'Comp3', 'Comp4', 'Comp5']\n",
    "var_ratio.index = ['Proportion of Variance']\n",
    "print(var_ratio)\n",
    "\n",
    "#Looking at the proportion of variance explained, these are not high proportions and make the data much less \n",
    "#interpretable. Going to stick with the original variables."
   ]
  },
  {
   "cell_type": "markdown",
   "metadata": {},
   "source": [
    "# Build the KMeans Model\n",
    "\n",
    "It's now time to start clustering! There are so many interesting questions we could ask about this data. Let's start by seeing if clusters form based on traditionally masculine concepts. \n",
    "\n",
    "Take a look at the first four sub-questions in question 7. Those four activities aren't necessarily seen as traditionally masculine. On the other hand, sub-questions 5, 8, and 9 are often seen as very masculine activities. What would happen if we found 2 clusters based on those 7 questions? Would we find clusters that represent traditionally feminine and traditionally masculine people? Let's find out.\n",
    "\n",
    "We need to first drop all of the rows that contain a `NaN` value in any of the columns we're interested in. Create a new variable named `rows_to_cluster` and set it equal to the result of calling `dropna` on `survey`. `dropna` should have a parameter `subset` equal to a list of the 7 columns we want. If you don't include `subset`, the function will drop all rows that have an `NaN` in *any* column. This would drop almost all the rows in the dataframe!\n",
    "\n",
    "Create a `KMeans` object named `classifier` where `n_clusters = 2`. Call `classifier`'s `.fit()` method. The parameter of `.fit()` should be the 7 columns we're interested in. For example, the following line of code will fit the model based on the columns `\"col_one\"` and `\"col_two\"` of the Dataframe `df`. \n",
    "\n",
    "```py\n",
    "classifier.fit(df[[\"col_one\", \"col_two\"]])\n",
    "```\n",
    "\n",
    "Make sure to only include the columns that you want to train off of. Make sure to use `rows_to_cluster` rather than `survey` to avoid including those `NaN`s!\n",
    "\n",
    "\n",
    "\n",
    "After fitting your model, print out the model's `cluster_centers_`.\n"
   ]
  },
  {
   "cell_type": "code",
   "execution_count": 133,
   "metadata": {},
   "outputs": [
    {
     "name": "stdout",
     "output_type": "stream",
     "text": [
      "[[2.85225505 2.83048212 2.83825816 2.43856921 0.72006221 2.74183515\n",
      "  0.52410575 2.97667185 2.80715397 1.53810264 2.39813375]\n",
      " [1.91315789 1.85789474 0.96052632 1.66842105 0.53421053 2.88684211\n",
      "  0.08421053 2.79736842 2.17105263 0.60526316 1.65789474]]\n"
     ]
    }
   ],
   "source": [
    "from sklearn.cluster import KMeans\n",
    "\n",
    "rows_to_cluster = survey.dropna(subset = [\"q0007_0001\", \"q0007_0002\", \"q0007_0003\", \"q0007_0004\",\n",
    "       \"q0007_0005\", \"q0007_0006\", \"q0007_0007\", \"q0007_0008\", \"q0007_0009\",\n",
    "       \"q0007_0010\", \"q0007_0011\"])\n",
    "\n",
    "classifier = KMeans(n_clusters = 2)\n",
    "classifier.fit(rows_to_cluster[[\"q0007_0001\", \"q0007_0002\", \"q0007_0003\", \"q0007_0004\",\n",
    "       \"q0007_0005\", \"q0007_0006\", \"q0007_0007\", \"q0007_0008\", \"q0007_0009\",\n",
    "       \"q0007_0010\", \"q0007_0011\"]])\n",
    "\n",
    "print(classifier.cluster_centers_)\n"
   ]
  },
  {
   "cell_type": "markdown",
   "metadata": {},
   "source": [
    "# Separate the Cluster Members\n",
    "\n",
    "When we look at the two clusters, the first four numbers represent the traditionally feminine activities and the last three represent the traditionally masculine activities. If the data points separated into a feminine cluser and a masculine cluseter, we would expect to see one cluster to have high values for the first four numbers and the other cluster to have high values for the last three numbers.\n",
    "\n",
    "Instead, the first cluster has a higher value in every feature. Since a higher number means the person was more likely to \"often\" do something, the clusters seem to represent \"people who do things\" and \"people who don't do things\".\n",
    "\n",
    "We might be able to find out more information about these clusters by looking at the specific members of each cluster. Print `classifier.labels_`. This list shows which cluster every row in the DataFrame corresponds to.\n",
    "\n",
    "For example,  if `classifier.labels_` was `[1, 0 ,1]`, then the first row in the DataFrame would be in cluster one, the second row would be in cluster 0, and the third row would be in cluster one. A row represents one persons answers to every question in the survey.\n",
    "\n",
    "Create two new empty lists named `cluster_zero_indices` and `cluster_one_indices`. Loop through `classifier.labels_` and whenever a label is `0` add that index to `cluster_zero_indices`. Do the same whenever a label is a `1`.\n",
    "\n",
    "Print `cluster_zero_indices`"
   ]
  },
  {
   "cell_type": "code",
   "execution_count": 139,
   "metadata": {},
   "outputs": [],
   "source": [
    "#print(classifier.labels_)\n",
    "\n",
    "cluster_zero_indices = []\n",
    "cluster_one_indices = []\n",
    "for label in range(len(classifier.labels_)):\n",
    "    if classifier.labels_[label] == 0:\n",
    "        cluster_zero_indices.append(label)\n",
    "    elif classifier.labels_[label] == 1:\n",
    "        cluster_one_indices.append(label)\n",
    "\n",
    "#print(cluster_zero_indices)"
   ]
  },
  {
   "cell_type": "markdown",
   "metadata": {},
   "source": [
    "# Investigate the Cluster Members\n",
    "\n",
    "Now that we have the indices for each cluster, let's look at some stats about these two clusters. You can get the rows of the DataFrame that correspond to cluster zero by doing the following:\n",
    "\n",
    "```py\n",
    "cluster_zero_df = rows_to_cluster.iloc[cluster_zero_indices]\n",
    "```\n",
    "\n",
    "Do the same for `cluster_one_df`.\n",
    "\n",
    "Finally, let's look at some information about these two clusters. Print the `value_counts()` of the `educ4` column of each cluster. What do you notice? Try looking at different columns. For example, are the people in cluster zero significantly older than those in cluster one? You can look at the `age3` column to see.\n",
    "\n",
    "If you divide the result of `value_counts()` by the size of the cluster, you get the percentage of people in each category rather than the total number. This will make it easier to compare the two clusters."
   ]
  },
  {
   "cell_type": "code",
   "execution_count": 150,
   "metadata": {
    "scrolled": true
   },
   "outputs": [
    {
     "name": "stdout",
     "output_type": "stream",
     "text": [
      "Post graduate degree    0.370717\n",
      "College or more         0.313084\n",
      "Some college            0.235202\n",
      "High school or less     0.080997\n",
      "Name: educ4, dtype: float64\n",
      "College or more         0.320210\n",
      "Some college            0.296588\n",
      "Post graduate degree    0.254593\n",
      "High school or less     0.125984\n",
      "Name: educ4, dtype: float64\n",
      "35 - 64      0.501558\n",
      "65 and up    0.425234\n",
      "18 - 34      0.073209\n",
      "Name: age3, dtype: float64\n",
      "65 and up    0.535433\n",
      "35 - 64      0.406824\n",
      "18 - 34      0.055118\n",
      "Name: age3, dtype: float64\n"
     ]
    }
   ],
   "source": [
    "cluster_zero_df = rows_to_cluster.iloc[cluster_zero_indices]\n",
    "cluster_one_df = rows_to_cluster.iloc[cluster_one_indices]\n",
    "\n",
    "print(cluster_zero_df.educ4.value_counts()/len(cluster_zero_df))\n",
    "print(cluster_one_df.educ4.value_counts()/len(cluster_one_df))\n",
    "print(cluster_zero_df.age3.value_counts()/len(cluster_zero_df))\n",
    "print(cluster_one_df.age3.value_counts()/len(cluster_one_df))"
   ]
  },
  {
   "cell_type": "markdown",
   "metadata": {},
   "source": [
    "# Explore on Your Own\n",
    "\n",
    "Great work! You've found out that by answering those 7 questions people don't fall into a \"masculine\" category or a \"feminine\" category. Instead, they seem to be divided by their level of education!\n",
    "\n",
    "Now it's time for you to explore this data on your own. In this project, we've really focused on question 7 and its sub-questions. Take a look at some of the other questions in the survey and try to ask yourself some interesting questions. Here's a list of questions you could dive into:\n",
    "\n",
    "* Which demographic features have stronger correlations with ideas of masculinity (sexual orientation, age, race, marital status, parenthood?)\n",
    "* Are certain beliefs or actions linked to more self-described masculine or feminine individuals?\n",
    "* How do insecurities change as people grow older?\n",
    "\n",
    "\n",
    "Special thanks to the team at FiveThirtyEight and specifically Dhrumil Mehta for giving us access to the data!\n",
    "\n",
    "** To explore on my own, I am going to look at the subset of questions in q8 which tell what these men worry about on a daily or near daily basis.\n"
   ]
  },
  {
   "cell_type": "code",
   "execution_count": 220,
   "metadata": {},
   "outputs": [
    {
     "name": "stdout",
     "output_type": "stream",
     "text": [
      "0                              Not selected\n",
      "1                              Not selected\n",
      "2                              Not selected\n",
      "3                              Not selected\n",
      "4                              Not selected\n",
      "                       ...                 \n",
      "1184    Sexual performance or amount of sex\n",
      "1185                           Not selected\n",
      "1186    Sexual performance or amount of sex\n",
      "1187                           Not selected\n",
      "1188                           Not selected\n",
      "Name: q0008_0007, Length: 1189, dtype: object\n",
      "0       0\n",
      "1       0\n",
      "2       0\n",
      "3       0\n",
      "4       0\n",
      "       ..\n",
      "1184    1\n",
      "1185    0\n",
      "1186    1\n",
      "1187    0\n",
      "1188    0\n",
      "Name: q0008_0007, Length: 1189, dtype: int64\n"
     ]
    }
   ],
   "source": [
    "#Had to read in the survey information at the to of the cell as if this gets run more than once without it, everything \n",
    "#turns to ones. I am certain there are better practices for data management, I am just not sure of them yet.\n",
    "\n",
    "survey = pd.read_csv(\"masculinity.csv\")\n",
    "print(survey['q0008_0007'])\n",
    "\n",
    "cols_to_map = [\"q0008_0001\", \"q0008_0002\", \"q0008_0003\", \"q0008_0004\",\n",
    "       \"q0008_0005\", \"q0008_0006\", \"q0008_0007\", \"q0008_0008\", \"q0008_0009\",\n",
    "       \"q0008_0010\", \"q0008_0011\", \"q0008_0012\"]\n",
    "\n",
    "quest_8 = survey.dropna(subset = cols_to_map)\n",
    "\n",
    "for col in cols_to_map:\n",
    "    quest_8[col] = quest_8[col].map(lambda x: 0 if x == \"Not selected\" else 1)\n",
    "\n",
    "print(quest_8['q0008_0007'])\n",
    "\n"
   ]
  },
  {
   "cell_type": "markdown",
   "metadata": {},
   "source": [
    "Here is the set of sub questions from question 8 for reference:\n",
    "\n",
    "8. Which of the following do you worry about on a daily or near daily basis? (Select\n",
    "all that apply.) [RANDOMIZE, EXCEPT FOR LAST]  \n",
    "1). Your height  \n",
    "2). Your weight  \n",
    "3). Your hair or hairline  \n",
    "4). Your physique  \n",
    "5). Appearance of your genitalia   \n",
    "6). Your clothing or style  \n",
    "7). Sexual performance or amount of sex  \n",
    "8). Your mental health  \n",
    "9). Your physical health  \n",
    "10). Your finances, including your current or future income, assets, or debt  \n",
    "11). Your ability to provide for your family, current or anticipated  \n",
    "12). None of the above  \n",
    "\n",
    "These questions are a mixture of worries. Numbers 10 and 11 are the things that traditionally men are supposed to be more worried about. Does this still fit? This is changing as time is progressing, it would be nice to see the trends in this between men and women, but as we only have data from men, I would hypothesize that this worry may be less than it used to be as men as not expected to carry the full load anymore. \n",
    "\n"
   ]
  },
  {
   "cell_type": "code",
   "execution_count": 262,
   "metadata": {},
   "outputs": [
    {
     "name": "stdout",
     "output_type": "stream",
     "text": [
      "        age3  q0008_0010    0\n",
      "0    18 - 34           0   29\n",
      "1    18 - 34           1   40\n",
      "2    35 - 64           0  232\n",
      "3    35 - 64           1  306\n",
      "4  65 and up           0  401\n",
      "5  65 and up           1  180\n"
     ]
    },
    {
     "data": {
      "text/plain": [
       "Text(0, 0.5, 'Counts')"
      ]
     },
     "execution_count": 262,
     "metadata": {},
     "output_type": "execute_result"
    },
    {
     "data": {
      "image/png": "[encoded data removed]",
      "text/plain": [
       "<Figure size 1000x800 with 1 Axes>"
      ]
     },
     "metadata": {},
     "output_type": "display_data"
    }
   ],
   "source": [
    "age_counts = quest_8[['age3','q0008_0010']]\n",
    "#print(age_counts)\n",
    "age_counts = age_counts.groupby(['age3','q0008_0010']).size().reset_index()\n",
    "print(age_counts)\n",
    "\n",
    "#print(age_counts.count)\n",
    "\n",
    "ages = ['18 - 34 ', '35 - 64 ', '65 and up ']\n",
    "not_sel = [29,232,401]\n",
    "sel = [40,306,180]\n",
    "\n",
    "# for row in age_counts:\n",
    "#     if age_counts.q0008_0010[row] == 0:\n",
    "#         not_sel.append(age_counts.count[row])\n",
    "#     elif age_counts.q0008_0010[row] == 1:\n",
    "#         sel.append(age_counts.count[row])\n",
    "\n",
    "#print(not_sel)\n",
    "def create_x(t, w, n, d):\n",
    "    return [t*x + w*n for x in range(d)]\n",
    "\n",
    "not_selected = create_x(2,0.8, 1, 3)\n",
    "selected = create_x(2,0.8, 2, 3)\n",
    "\n",
    "plt.figure(figsize=(10, 8))\n",
    "ax = plt.subplot()\n",
    "plt.bar(not_selected, not_sel)\n",
    "plt.bar(selected, sel)\n",
    "\n",
    "middle_x = [(a+b)/2 for a,b in zip(not_selected,selected)]\n",
    "ax.set_xticks(middle_x)\n",
    "ax.set_xticklabels(ages)\n",
    "plt.legend(['Not Selected', 'Selected'])\n",
    "plt.title('Worried about: Your finances, including your current or future income, assets, or debt  ')\n",
    "plt.xlabel('Age Range')\n",
    "plt.ylabel('Counts')\n",
    "# plt.savefig('my_side_by_side.png')\n",
    "\n",
    "\n"
   ]
  },
  {
   "cell_type": "markdown",
   "metadata": {},
   "source": [
    "After making this barplot I think that the age groups make it somewhat difficult to see the conclusions that I was hypothesizing. After 65 people are retiring and this may lessen the worry in regards to finances as the data is showing. I will continue on and make a model."
   ]
  },
  {
   "cell_type": "code",
   "execution_count": 279,
   "metadata": {},
   "outputs": [
    {
     "name": "stdout",
     "output_type": "stream",
     "text": [
      "[[8.79120879e-03 1.56043956e-01 3.73626374e-02 1.31868132e-02\n",
      "  1.31868132e-02 2.19780220e-02 5.05494505e-02 7.25274725e-02\n",
      "  1.82417582e-01 1.20879121e-01 1.03296703e-01 4.41758242e-01]\n",
      " [5.17711172e-02 8.06539510e-01 1.62125341e-01 4.71389646e-01\n",
      "  1.21253406e-01 1.60762943e-01 2.99727520e-01 3.11989101e-01\n",
      "  7.42506812e-01 6.41689373e-01 3.41961853e-01 4.71844785e-16]]\n",
      "College or more         0.325275\n",
      "Post graduate degree    0.312088\n",
      "Some college            0.259341\n",
      "High school or less     0.101099\n",
      "Name: educ4, dtype: float64\n",
      "Post graduate degree    0.336512\n",
      "College or more         0.306540\n",
      "Some college            0.257493\n",
      "High school or less     0.099455\n",
      "Name: educ4, dtype: float64\n",
      "Not too important       0.364835\n",
      "Somewhat important      0.342857\n",
      "Not at all important    0.184615\n",
      "Very important          0.103297\n",
      "No answer               0.004396\n",
      "Name: q0002, dtype: float64\n",
      "Somewhat important      0.420981\n",
      "Not too important       0.320163\n",
      "Not at all important    0.130790\n",
      "Very important          0.123978\n",
      "No answer               0.004087\n",
      "Name: q0002, dtype: float64\n"
     ]
    }
   ],
   "source": [
    "classifier_2 = KMeans(n_clusters = 2)\n",
    "classifier_2.fit(quest_8[[\"q0008_0001\", \"q0008_0002\", \"q0008_0003\", \"q0008_0004\",\n",
    "       \"q0008_0005\", \"q0008_0006\", \"q0008_0007\", \"q0008_0008\", \"q0008_0009\",\n",
    "       \"q0008_0010\", \"q0008_0011\", \"q0008_0012\"]])\n",
    "print(classifier_2.cluster_centers_)\n",
    "\n",
    "cluster_2_zero_indices = []\n",
    "cluster_2_one_indices = []\n",
    "for i in range(len(classifier_2.labels_)):\n",
    "    if classifier_2.labels_[i] == 0:\n",
    "        cluster_2_zero_indices.append(i)\n",
    "    elif classifier_2.labels_[i] == 1:\n",
    "        cluster_2_one_indices.append(i)\n",
    "        \n",
    "#print(cluster_2_zero_indices)\n",
    "\n",
    "cluster_2_zero_df = quest_8.iloc[cluster_2_zero_indices]\n",
    "cluster_2_one_df = quest_8.iloc[cluster_2_one_indices]\n",
    "\n",
    "print(cluster_2_zero_df['educ4'].value_counts()/len(cluster_2_zero_df))\n",
    "print(cluster_2_one_df['educ4'].value_counts()/len(cluster_2_one_df))\n",
    "\n",
    "print(cluster_2_zero_df['q0002'].value_counts()/len(cluster_2_zero_df))\n",
    "print(cluster_2_one_df['q0002'].value_counts()/len(cluster_2_one_df))"
   ]
  },
  {
   "cell_type": "markdown",
   "metadata": {},
   "source": [
    "8. Which of the following do you worry about on a daily or near daily basis? (Select\n",
    "all that apply.) [RANDOMIZE, EXCEPT FOR LAST]  \n",
    "1). Your height  \n",
    "2). Your weight  \n",
    "3). Your hair or hairline  \n",
    "4). Your physique  \n",
    "5). Appearance of your genitalia   \n",
    "6). Your clothing or style  \n",
    "7). Sexual performance or amount of sex  \n",
    "8). Your mental health  \n",
    "9). Your physical health  \n",
    "10). Your finances, including your current or future income, assets, or debt  \n",
    "11). Your ability to provide for your family, current or anticipated  \n",
    "12). None of the above  "
   ]
  },
  {
   "cell_type": "code",
   "execution_count": 270,
   "metadata": {},
   "outputs": [
    {
     "name": "stdout",
     "output_type": "stream",
     "text": [
      "Index(['Unnamed: 0', 'StartDate', 'EndDate', 'q0001', 'q0002', 'q0004_0001',\n",
      "       'q0004_0002', 'q0004_0003', 'q0004_0004', 'q0004_0005', 'q0004_0006',\n",
      "       'q0005', 'q0007_0001', 'q0007_0002', 'q0007_0003', 'q0007_0004',\n",
      "       'q0007_0005', 'q0007_0006', 'q0007_0007', 'q0007_0008', 'q0007_0009',\n",
      "       'q0007_0010', 'q0007_0011', 'q0008_0001', 'q0008_0002', 'q0008_0003',\n",
      "       'q0008_0004', 'q0008_0005', 'q0008_0006', 'q0008_0007', 'q0008_0008',\n",
      "       'q0008_0009', 'q0008_0010', 'q0008_0011', 'q0008_0012', 'q0009',\n",
      "       'q0010_0001', 'q0010_0002', 'q0010_0003', 'q0010_0004', 'q0010_0005',\n",
      "       'q0010_0006', 'q0010_0007', 'q0010_0008', 'q0011_0001', 'q0011_0002',\n",
      "       'q0011_0003', 'q0011_0004', 'q0011_0005', 'q0012_0001', 'q0012_0002',\n",
      "       'q0012_0003', 'q0012_0004', 'q0012_0005', 'q0012_0006', 'q0012_0007',\n",
      "       'q0013', 'q0014', 'q0015', 'q0017', 'q0018', 'q0019_0001', 'q0019_0002',\n",
      "       'q0019_0003', 'q0019_0004', 'q0019_0005', 'q0019_0006', 'q0019_0007',\n",
      "       'q0020_0001', 'q0020_0002', 'q0020_0003', 'q0020_0004', 'q0020_0005',\n",
      "       'q0020_0006', 'q0021_0001', 'q0021_0002', 'q0021_0003', 'q0021_0004',\n",
      "       'q0022', 'q0024', 'q0025_0001', 'q0025_0002', 'q0025_0003', 'q0026',\n",
      "       'q0028', 'q0029', 'q0030', 'q0034', 'q0035', 'q0036', 'race2',\n",
      "       'racethn4', 'educ3', 'educ4', 'age3', 'kids', 'orientation', 'weight'],\n",
      "      dtype='object')\n"
     ]
    }
   ],
   "source": [
    "print(quest_8.columns)"
   ]
  },
  {
   "cell_type": "markdown",
   "metadata": {},
   "source": [
    "# Conclusions\n",
    "\n",
    "If I was to perform this again, I would not use the subset of questions in question 8. If I was to do this again, I would look to see how those who have heard about the #MeToo movement were changed.\n",
    "1). Did they take actions when they saw these incidents more often?\n",
    "2). Were they more in tune to this incidents happening?\n"
   ]
  }
 ],
 "metadata": {
  "kernelspec": {
   "display_name": "Python 3",
   "language": "python",
   "name": "python3"
  },
  "language_info": {
   "codemirror_mode": {
    "name": "ipython",
    "version": 3
   },
   "file_extension": ".py",
   "mimetype": "text/x-python",
   "name": "python",
   "nbconvert_exporter": "python",
   "pygments_lexer": "ipython3",
   "version": "3.8.5"
  }
 },
 "nbformat": 4,
 "nbformat_minor": 2
}
